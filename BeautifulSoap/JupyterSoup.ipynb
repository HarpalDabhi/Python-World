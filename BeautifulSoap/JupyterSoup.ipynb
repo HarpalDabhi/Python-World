{
 "cells": [
  {
   "cell_type": "code",
   "execution_count": null,
   "id": "49273605",
   "metadata": {},
   "outputs": [],
   "source": [
    "# Get the HTML\n",
    "import requests\n",
    "\n",
    "from bs4 import BeautifulSoup\n",
    "\n",
    "\n",
    "\n",
    "url=\"https://www.canva.com/\"\n",
    "\n",
    "r=requests.get(url)\n",
    "\n",
    "html=r.content\n",
    "\n",
    "print(html)"
   ]
  },
  {
   "cell_type": "markdown",
   "id": "58d13fe2",
   "metadata": {},
   "source": [
    "# Parse the HTML"
   ]
  },
  {
   "cell_type": "code",
   "execution_count": 2,
   "id": "ddbdbec5",
   "metadata": {},
   "outputs": [],
   "source": [
    "# Tree traversal\n"
   ]
  },
  {
   "cell_type": "code",
   "execution_count": 3,
   "id": "93605351",
   "metadata": {},
   "outputs": [
    {
     "data": {
      "text/plain": [
       "<!DOCTYPE html>\n",
       "\n",
       "<html lang=\"en-US\">\n",
       "<head>\n",
       "<title>Just a moment...</title>\n",
       "<meta content=\"text/html; charset=utf-8\" http-equiv=\"Content-Type\"/>\n",
       "<meta content=\"IE=Edge\" http-equiv=\"X-UA-Compatible\"/>\n",
       "<meta content=\"noindex,nofollow\" name=\"robots\"/>\n",
       "<meta content=\"width=device-width,initial-scale=1\" name=\"viewport\"/>\n",
       "<link href=\"/cdn-cgi/styles/challenges.css\" rel=\"stylesheet\"/>\n",
       "</head>\n",
       "<body class=\"no-js\">\n",
       "<div class=\"main-wrapper\" role=\"main\">\n",
       "<div class=\"main-content\">\n",
       "<noscript>\n",
       "<div id=\"challenge-error-title\">\n",
       "<div class=\"h2\">\n",
       "<span class=\"icon-wrapper\">\n",
       "<div class=\"heading-icon warning-icon\"></div>\n",
       "</span>\n",
       "<span id=\"challenge-error-text\">\n",
       "                        Enable JavaScript and cookies to continue\n",
       "                    </span>\n",
       "</div>\n",
       "</div>\n",
       "</noscript>\n",
       "<div id=\"trk_jschal_js\" style=\"display:none;background-image:url('/cdn-cgi/images/trace/managed/nojs/transparent.gif?ray=7b2272e55c1485cc')\"></div>\n",
       "<form action=\"/?__cf_chl_f_tk=fehoskytWFdJUgLlwXXwIw5WTP5E1hGA1Dv1EFuNu.k-1680536832-0-gaNycGzNChA\" enctype=\"application/x-www-form-urlencoded\" id=\"challenge-form\" method=\"POST\">\n",
       "<input name=\"md\" type=\"hidden\" value=\"PyJI9fLcSjSS8wQxyTouNjAPM9y.cNTAwyVTe6lHKIA-1680536832-0-AVXb-UkdUqS2SCjeOHBRnGt6ZQ8nZ5b5XCtW_PQ60kNUlz_CB8UcDuurptU0rfWYcvcAF--3rESZkk7F0pYDEKFurZZkdPLY8awJErhr09IdWivm3I6RH6gHC72A1GbIFKtKSvAGwPZguQpdFJqH6tbXehxP8aiF5XaG7Erbeh-jps-c5wIDAEiH3GZE_T6i-nbPxtn9QBbqYJ7u6jHpYSe2AlLq2VEhcsa1Xs3AW9hP3DwBvrceeKLE_tVR9VAPgDHP0vmZmdUnCG_YpRAcIt9lVqXoT58ap3x8VkbBb6g-PIvjEJ1ulfSOWmM56yE70PDBUxALlFVNbrVjfh4wFFrRa8HHYXz-EpvH8YEygvjJh5tVbRq484pkyt79H6coyXq-dmvthh_mzuZMLudaHB4_KI0Vzi1RG0VvUKMxoebgzaCofJ1D1yEA6OAC_IgON9LVOL6eyknvi7HHdPqxOAbXTuFi6EwDzS6onumJFePPFzqfWpPN5izBbftaXyOPQvAYWF3K6BVGtyw77FYZDk6t3bzIu7RjOMk8ST1-sstO2tKu0O5U_RIsug-ad0Nj4xuw2kVOJPlcHe4pWO4LzTYXRvKgnHrcUTk8gGj1KyiCebIw0g1JduLUOOos6FBrSfXrDq7Z-8kw0hKxt5CpKp3HKYpkubk-cfQDqWP5-Ocfy5xj8rPGIOHSPak5K-6wbKD3GXnb5P7QRvu2gjO5MIAMoKorP8yqAWoxlrVT3iZ6uB67Y3hapg56kakqiFwJmbDt3EZPYDPIGpQ91hHpT1dBy5OlylsojGNvPnXvvNqDcaWM_nbgmwQpg6cAjBQFSbKKt0Tf7CNG8FxppSE-tIh7TY_LttctpqjtkWAXxzSOvbjWxrRcw0zBtOZ5do07O_ONYoQgdpGfcS0GnRG1Ii7oYGajMlMu50E7B0NuG_XfwJFTcyZ9cipW2zCbuPGYm5vx0Z_tbHbxvhzVbDv8l5NBLZuOyaGIHr7vgK6OJ_mqGBfPxzY8bLmPeFfJpDrg08jxW7QqtQqlD-kNB9kINfi2l-_MXLaVkm3_9ALjIvJmrEQfFHf69kyA99-NcfkEtvfhMlWRbROGpCSGlNXhQ5-FvqHSsgpsBC3CS3z8hxOMy0pdnosCul357e5N3sa4cQ-bVAqdsFAtWq-ZLde_6xEcYUpZndqVfsaCW0dlJCcFTzFihROUdxoAsOYucufHq3pmxHn63laUWWv0N3L3rnBZs2OAosIAPTCS4KmgwxD6flcXoBwFuLOzn79Vei9njZd_WKtJT5Er0-OskoGrgjL9jy3kKOsWQ9QOhpag1UUqv0mCcfGoMfJnIHiHONVpdQghVfwcHKTgDLAxI2ZiF5iBkPZw2FeOdn1Fr_d8WSxMR7CASV2VxBTlzvfEdu2Zq2wmgbgKIVitBmW7gZ7OE5fygiHK_NjD1KkiWkR32w74MLkU4OS0B7jT4o2YAjL6Jb7RpVlTwdjDny_pXNoCQIq2KC4RQP-85JaQjO4DCtjbzgufaqtBn04KXl4JKBv2T2X4KrIzDYQqWbt9bfkTJaaeREVB_9U3LRChzk6tuYBnwWmUbF869V8K6GgaIqLm6aHZ3nf5vWH2BAKwFksiPAJZQ0ejGgZZ7mfDWGhcB5gCD6Adrza40d8C0T_UIjxGxGPTBpUXLsUUQUdg3VILaujZxOZsinv4Nr4cubSyoS7rSLUFtgrZozl8eInjBOgEGgGvxvpLNpMszaWy2H8OrcUB32SBxae2BuFEea3ak-5DepSOruhYhOBrmuS3a5IrdlAtMSIUhXBoOlr3ZiKQYmOPaN_zTWp1XakUTqxKJCoIou2fRxmhFYLv4CvLfyx_zFUUbbjhjsWJSxuWeFexA-I2ZZr_chmGOuHtnbjZNn1g2moi52I8k0hYdScBZWbI-ElTtGfAHfBI2sFtlA3ZOKKtZx0eUiAlNuYTIhkM4gnIo4DtveCR6JLoA0ntXJDMuGen6OqNXVzNtlp2Ac757LnwldS4y-o1kt0kFQGaEaHQlTH7SW9sZqdcWLVQSuijkVTg23pzckZKTMh1_WbIJNQivBR_kc_ssJ3vDElGyp8FxXTbD2tedECajqoT6mnrH6Wpi6xNy4dVb3HBCATArrA-68X0SfwOXom-zvqGwEV8usMz68odZ4xGfZyfyk_SSJ2eLbilGl9-CVzXf1ow-JzQ1yqjJuTfRW-d7JbABujvX4XfYGCNY7nJ-iQqwV81KyI5pLRfphu4U1a4jxzca3emfaHg58ihbprm2_PisTGAbpsUgjVROKp72AdLSLDhIktpJnnswy0eUZ4xxunN1tbFaM8BnJxGyOdsKYtaZNBS8ChKAPBaenUlR4ofY3srSb4Cv-w98P3V9Rg824jI1OIgnahxTpZqjRoggtYwmx3_hOHmeQZMrGdBjm3o8uJ4vwechQRNbzAvOMme5QYsnTaQauFq9EByO2o4qsYBW2NRKFXy8T5GBhv8O3hIIQ0iZESMHk8y9fEAmedBDkv44UQ\"/>\n",
       "</form>\n",
       "</div>\n",
       "</div>\n",
       "<script>\n",
       "    (function(){\n",
       "        window._cf_chl_opt={\n",
       "            cvId: '2',\n",
       "            cZone: 'www.canva.com',\n",
       "            cType: 'managed',\n",
       "            cNounce: '89817',\n",
       "            cRay: '7b2272e55c1485cc',\n",
       "            cHash: '70797bad9b04a07',\n",
       "            cUPMDTk: \"\\/?__cf_chl_tk=fehoskytWFdJUgLlwXXwIw5WTP5E1hGA1Dv1EFuNu.k-1680536832-0-gaNycGzNChA\",\n",
       "            cFPWv: 'b',\n",
       "            cTTimeMs: '1000',\n",
       "            cMTimeMs: '0',\n",
       "            cTplV: 5,\n",
       "            cTplB: 'cf',\n",
       "            cK: \"\",\n",
       "            cRq: {\n",
       "                ru: 'aHR0cHM6Ly93d3cuY2FudmEuY29tLw==',\n",
       "                ra: 'cHl0aG9uLXJlcXVlc3RzLzIuMjguMQ==',\n",
       "                rm: 'R0VU',\n",
       "                d: '5mOH0iNhFCSlo+5JZX5CxY+YqtzkAjMW8NL99QroUjKdwwSAQpxVVB5gFQqJ+wUF8EEBOdBITMcqxtZWxtPvzLOZHiTkKhHUiJjuE7XxnFKv9JuSJYp8vLRHDZn89hEr/VXIAlSPXEsgOiyOTr168uGy7jDlsGzs14lD93SdmqRM0wiCUqOb544mc2HMWfDBp0LzoiDbqeIAyndRDX+uhqy+k53HMg/b+S01s2hXXTZ9udTvN8BVfEHC8WWtgJ7y5dgCsLT5xzr3TEyJOFG6hM4i8geN2Q1PJq7Fpvx6Jj7EYN1CMn9ECzcmXMuBe5LLw3nMzM42/u2+kcudEawfrg+Y2JAcluD0OAJB+JfrJdJE3dHV/BZA27wxSER8wI9dcU+ExzstzTNL+2j8dMEheAvyalUYz00aJ4XbxUTx+n8FNecfGjKDbbj+/NGGmEjslZeJ9xZSZMZ8RvyvmNhAAJing75//8fOuKr5Xtmb0ZBsfc3TAkMH/bdGHLey2sBVhgskWRyHXuAhKaMWMHicyRYJykBJLH/pGYn5M7Hur5Prq5dh2meYBDNT1bUk6FOJxPsqmbxStvEV++IEXqB+jfa8am7YODlA5T5Ohhas/nyV6X3PMVRQt7dEHb8uhFI3',\n",
       "                t: 'MTY4MDUzNjgzMi44NzEwMDA=',\n",
       "                m: 'WaeiRuvfJrQ9sdYMuX6TQrr+D91HFv9KheHyJ2O1kw8=',\n",
       "                i1: 'nhPTDGtYMdeuXHatxoA3zg==',\n",
       "                i2: 'c64PU02KSlPMn0KiWRd2bQ==',\n",
       "                zh: '/mxmDQDvBGTEk5y6ErmAoCwqYjGcBJwDqX3NLlc5hH0=',\n",
       "                uh: 'SLdVolODg++SO356HusO5I/hbfOpiiOxQXj62i/MUkA=',\n",
       "                hh: 'EpafASgNoei8MR0S/nw9t+Ki+1v5649duOyjGQq3azA=',\n",
       "            }\n",
       "        };\n",
       "        var trkjs = document.createElement('img');\n",
       "        trkjs.setAttribute('src', '/cdn-cgi/images/trace/managed/js/transparent.gif?ray=7b2272e55c1485cc');\n",
       "        trkjs.setAttribute('alt', '');\n",
       "        trkjs.setAttribute('style', 'display: none');\n",
       "        document.body.appendChild(trkjs);\n",
       "        var cpo = document.createElement('script');\n",
       "        cpo.src = '/cdn-cgi/challenge-platform/h/b/orchestrate/managed/v1?ray=7b2272e55c1485cc';\n",
       "        window._cf_chl_opt.cOgUHash = location.hash === '' && location.href.indexOf('#') !== -1 ? '#' : location.hash;\n",
       "        window._cf_chl_opt.cOgUQuery = location.search === '' && location.href.slice(0, location.href.length - window._cf_chl_opt.cOgUHash.length).indexOf('?') !== -1 ? '?' : location.search;\n",
       "        if (window.history && window.history.replaceState) {\n",
       "            var ogU = location.pathname + window._cf_chl_opt.cOgUQuery + window._cf_chl_opt.cOgUHash;\n",
       "            history.replaceState(null, null, \"\\/?__cf_chl_rt_tk=fehoskytWFdJUgLlwXXwIw5WTP5E1hGA1Dv1EFuNu.k-1680536832-0-gaNycGzNChA\" + window._cf_chl_opt.cOgUHash);\n",
       "            cpo.onload = function() {\n",
       "                history.replaceState(null, null, ogU);\n",
       "            };\n",
       "        }\n",
       "        document.getElementsByTagName('head')[0].appendChild(cpo);\n",
       "    }());\n",
       "</script>\n",
       "</body>\n",
       "</html>"
      ]
     },
     "execution_count": 3,
     "metadata": {},
     "output_type": "execute_result"
    }
   ],
   "source": [
    "S=BeautifulSoup(html,'html.parser')\n",
    "S"
   ]
  },
  {
   "cell_type": "code",
   "execution_count": 4,
   "id": "3bf82f81",
   "metadata": {},
   "outputs": [],
   "source": [
    "S.pretify"
   ]
  },
  {
   "cell_type": "code",
   "execution_count": 5,
   "id": "9a2bfe10",
   "metadata": {},
   "outputs": [
    {
     "name": "stdout",
     "output_type": "stream",
     "text": [
      "None\n"
     ]
    }
   ],
   "source": [
    "print(S.pretify)"
   ]
  },
  {
   "cell_type": "code",
   "execution_count": 6,
   "id": "8e5224f2",
   "metadata": {},
   "outputs": [
    {
     "data": {
      "text/plain": [
       "<bound method Tag.prettify of <!DOCTYPE html>\n",
       "\n",
       "<html lang=\"en-US\">\n",
       "<head>\n",
       "<title>Just a moment...</title>\n",
       "<meta content=\"text/html; charset=utf-8\" http-equiv=\"Content-Type\"/>\n",
       "<meta content=\"IE=Edge\" http-equiv=\"X-UA-Compatible\"/>\n",
       "<meta content=\"noindex,nofollow\" name=\"robots\"/>\n",
       "<meta content=\"width=device-width,initial-scale=1\" name=\"viewport\"/>\n",
       "<link href=\"/cdn-cgi/styles/challenges.css\" rel=\"stylesheet\"/>\n",
       "</head>\n",
       "<body class=\"no-js\">\n",
       "<div class=\"main-wrapper\" role=\"main\">\n",
       "<div class=\"main-content\">\n",
       "<noscript>\n",
       "<div id=\"challenge-error-title\">\n",
       "<div class=\"h2\">\n",
       "<span class=\"icon-wrapper\">\n",
       "<div class=\"heading-icon warning-icon\"></div>\n",
       "</span>\n",
       "<span id=\"challenge-error-text\">\n",
       "                        Enable JavaScript and cookies to continue\n",
       "                    </span>\n",
       "</div>\n",
       "</div>\n",
       "</noscript>\n",
       "<div id=\"trk_jschal_js\" style=\"display:none;background-image:url('/cdn-cgi/images/trace/managed/nojs/transparent.gif?ray=7b2272e55c1485cc')\"></div>\n",
       "<form action=\"/?__cf_chl_f_tk=fehoskytWFdJUgLlwXXwIw5WTP5E1hGA1Dv1EFuNu.k-1680536832-0-gaNycGzNChA\" enctype=\"application/x-www-form-urlencoded\" id=\"challenge-form\" method=\"POST\">\n",
       "<input name=\"md\" type=\"hidden\" value=\"PyJI9fLcSjSS8wQxyTouNjAPM9y.cNTAwyVTe6lHKIA-1680536832-0-AVXb-UkdUqS2SCjeOHBRnGt6ZQ8nZ5b5XCtW_PQ60kNUlz_CB8UcDuurptU0rfWYcvcAF--3rESZkk7F0pYDEKFurZZkdPLY8awJErhr09IdWivm3I6RH6gHC72A1GbIFKtKSvAGwPZguQpdFJqH6tbXehxP8aiF5XaG7Erbeh-jps-c5wIDAEiH3GZE_T6i-nbPxtn9QBbqYJ7u6jHpYSe2AlLq2VEhcsa1Xs3AW9hP3DwBvrceeKLE_tVR9VAPgDHP0vmZmdUnCG_YpRAcIt9lVqXoT58ap3x8VkbBb6g-PIvjEJ1ulfSOWmM56yE70PDBUxALlFVNbrVjfh4wFFrRa8HHYXz-EpvH8YEygvjJh5tVbRq484pkyt79H6coyXq-dmvthh_mzuZMLudaHB4_KI0Vzi1RG0VvUKMxoebgzaCofJ1D1yEA6OAC_IgON9LVOL6eyknvi7HHdPqxOAbXTuFi6EwDzS6onumJFePPFzqfWpPN5izBbftaXyOPQvAYWF3K6BVGtyw77FYZDk6t3bzIu7RjOMk8ST1-sstO2tKu0O5U_RIsug-ad0Nj4xuw2kVOJPlcHe4pWO4LzTYXRvKgnHrcUTk8gGj1KyiCebIw0g1JduLUOOos6FBrSfXrDq7Z-8kw0hKxt5CpKp3HKYpkubk-cfQDqWP5-Ocfy5xj8rPGIOHSPak5K-6wbKD3GXnb5P7QRvu2gjO5MIAMoKorP8yqAWoxlrVT3iZ6uB67Y3hapg56kakqiFwJmbDt3EZPYDPIGpQ91hHpT1dBy5OlylsojGNvPnXvvNqDcaWM_nbgmwQpg6cAjBQFSbKKt0Tf7CNG8FxppSE-tIh7TY_LttctpqjtkWAXxzSOvbjWxrRcw0zBtOZ5do07O_ONYoQgdpGfcS0GnRG1Ii7oYGajMlMu50E7B0NuG_XfwJFTcyZ9cipW2zCbuPGYm5vx0Z_tbHbxvhzVbDv8l5NBLZuOyaGIHr7vgK6OJ_mqGBfPxzY8bLmPeFfJpDrg08jxW7QqtQqlD-kNB9kINfi2l-_MXLaVkm3_9ALjIvJmrEQfFHf69kyA99-NcfkEtvfhMlWRbROGpCSGlNXhQ5-FvqHSsgpsBC3CS3z8hxOMy0pdnosCul357e5N3sa4cQ-bVAqdsFAtWq-ZLde_6xEcYUpZndqVfsaCW0dlJCcFTzFihROUdxoAsOYucufHq3pmxHn63laUWWv0N3L3rnBZs2OAosIAPTCS4KmgwxD6flcXoBwFuLOzn79Vei9njZd_WKtJT5Er0-OskoGrgjL9jy3kKOsWQ9QOhpag1UUqv0mCcfGoMfJnIHiHONVpdQghVfwcHKTgDLAxI2ZiF5iBkPZw2FeOdn1Fr_d8WSxMR7CASV2VxBTlzvfEdu2Zq2wmgbgKIVitBmW7gZ7OE5fygiHK_NjD1KkiWkR32w74MLkU4OS0B7jT4o2YAjL6Jb7RpVlTwdjDny_pXNoCQIq2KC4RQP-85JaQjO4DCtjbzgufaqtBn04KXl4JKBv2T2X4KrIzDYQqWbt9bfkTJaaeREVB_9U3LRChzk6tuYBnwWmUbF869V8K6GgaIqLm6aHZ3nf5vWH2BAKwFksiPAJZQ0ejGgZZ7mfDWGhcB5gCD6Adrza40d8C0T_UIjxGxGPTBpUXLsUUQUdg3VILaujZxOZsinv4Nr4cubSyoS7rSLUFtgrZozl8eInjBOgEGgGvxvpLNpMszaWy2H8OrcUB32SBxae2BuFEea3ak-5DepSOruhYhOBrmuS3a5IrdlAtMSIUhXBoOlr3ZiKQYmOPaN_zTWp1XakUTqxKJCoIou2fRxmhFYLv4CvLfyx_zFUUbbjhjsWJSxuWeFexA-I2ZZr_chmGOuHtnbjZNn1g2moi52I8k0hYdScBZWbI-ElTtGfAHfBI2sFtlA3ZOKKtZx0eUiAlNuYTIhkM4gnIo4DtveCR6JLoA0ntXJDMuGen6OqNXVzNtlp2Ac757LnwldS4y-o1kt0kFQGaEaHQlTH7SW9sZqdcWLVQSuijkVTg23pzckZKTMh1_WbIJNQivBR_kc_ssJ3vDElGyp8FxXTbD2tedECajqoT6mnrH6Wpi6xNy4dVb3HBCATArrA-68X0SfwOXom-zvqGwEV8usMz68odZ4xGfZyfyk_SSJ2eLbilGl9-CVzXf1ow-JzQ1yqjJuTfRW-d7JbABujvX4XfYGCNY7nJ-iQqwV81KyI5pLRfphu4U1a4jxzca3emfaHg58ihbprm2_PisTGAbpsUgjVROKp72AdLSLDhIktpJnnswy0eUZ4xxunN1tbFaM8BnJxGyOdsKYtaZNBS8ChKAPBaenUlR4ofY3srSb4Cv-w98P3V9Rg824jI1OIgnahxTpZqjRoggtYwmx3_hOHmeQZMrGdBjm3o8uJ4vwechQRNbzAvOMme5QYsnTaQauFq9EByO2o4qsYBW2NRKFXy8T5GBhv8O3hIIQ0iZESMHk8y9fEAmedBDkv44UQ\"/>\n",
       "</form>\n",
       "</div>\n",
       "</div>\n",
       "<script>\n",
       "    (function(){\n",
       "        window._cf_chl_opt={\n",
       "            cvId: '2',\n",
       "            cZone: 'www.canva.com',\n",
       "            cType: 'managed',\n",
       "            cNounce: '89817',\n",
       "            cRay: '7b2272e55c1485cc',\n",
       "            cHash: '70797bad9b04a07',\n",
       "            cUPMDTk: \"\\/?__cf_chl_tk=fehoskytWFdJUgLlwXXwIw5WTP5E1hGA1Dv1EFuNu.k-1680536832-0-gaNycGzNChA\",\n",
       "            cFPWv: 'b',\n",
       "            cTTimeMs: '1000',\n",
       "            cMTimeMs: '0',\n",
       "            cTplV: 5,\n",
       "            cTplB: 'cf',\n",
       "            cK: \"\",\n",
       "            cRq: {\n",
       "                ru: 'aHR0cHM6Ly93d3cuY2FudmEuY29tLw==',\n",
       "                ra: 'cHl0aG9uLXJlcXVlc3RzLzIuMjguMQ==',\n",
       "                rm: 'R0VU',\n",
       "                d: '5mOH0iNhFCSlo+5JZX5CxY+YqtzkAjMW8NL99QroUjKdwwSAQpxVVB5gFQqJ+wUF8EEBOdBITMcqxtZWxtPvzLOZHiTkKhHUiJjuE7XxnFKv9JuSJYp8vLRHDZn89hEr/VXIAlSPXEsgOiyOTr168uGy7jDlsGzs14lD93SdmqRM0wiCUqOb544mc2HMWfDBp0LzoiDbqeIAyndRDX+uhqy+k53HMg/b+S01s2hXXTZ9udTvN8BVfEHC8WWtgJ7y5dgCsLT5xzr3TEyJOFG6hM4i8geN2Q1PJq7Fpvx6Jj7EYN1CMn9ECzcmXMuBe5LLw3nMzM42/u2+kcudEawfrg+Y2JAcluD0OAJB+JfrJdJE3dHV/BZA27wxSER8wI9dcU+ExzstzTNL+2j8dMEheAvyalUYz00aJ4XbxUTx+n8FNecfGjKDbbj+/NGGmEjslZeJ9xZSZMZ8RvyvmNhAAJing75//8fOuKr5Xtmb0ZBsfc3TAkMH/bdGHLey2sBVhgskWRyHXuAhKaMWMHicyRYJykBJLH/pGYn5M7Hur5Prq5dh2meYBDNT1bUk6FOJxPsqmbxStvEV++IEXqB+jfa8am7YODlA5T5Ohhas/nyV6X3PMVRQt7dEHb8uhFI3',\n",
       "                t: 'MTY4MDUzNjgzMi44NzEwMDA=',\n",
       "                m: 'WaeiRuvfJrQ9sdYMuX6TQrr+D91HFv9KheHyJ2O1kw8=',\n",
       "                i1: 'nhPTDGtYMdeuXHatxoA3zg==',\n",
       "                i2: 'c64PU02KSlPMn0KiWRd2bQ==',\n",
       "                zh: '/mxmDQDvBGTEk5y6ErmAoCwqYjGcBJwDqX3NLlc5hH0=',\n",
       "                uh: 'SLdVolODg++SO356HusO5I/hbfOpiiOxQXj62i/MUkA=',\n",
       "                hh: 'EpafASgNoei8MR0S/nw9t+Ki+1v5649duOyjGQq3azA=',\n",
       "            }\n",
       "        };\n",
       "        var trkjs = document.createElement('img');\n",
       "        trkjs.setAttribute('src', '/cdn-cgi/images/trace/managed/js/transparent.gif?ray=7b2272e55c1485cc');\n",
       "        trkjs.setAttribute('alt', '');\n",
       "        trkjs.setAttribute('style', 'display: none');\n",
       "        document.body.appendChild(trkjs);\n",
       "        var cpo = document.createElement('script');\n",
       "        cpo.src = '/cdn-cgi/challenge-platform/h/b/orchestrate/managed/v1?ray=7b2272e55c1485cc';\n",
       "        window._cf_chl_opt.cOgUHash = location.hash === '' && location.href.indexOf('#') !== -1 ? '#' : location.hash;\n",
       "        window._cf_chl_opt.cOgUQuery = location.search === '' && location.href.slice(0, location.href.length - window._cf_chl_opt.cOgUHash.length).indexOf('?') !== -1 ? '?' : location.search;\n",
       "        if (window.history && window.history.replaceState) {\n",
       "            var ogU = location.pathname + window._cf_chl_opt.cOgUQuery + window._cf_chl_opt.cOgUHash;\n",
       "            history.replaceState(null, null, \"\\/?__cf_chl_rt_tk=fehoskytWFdJUgLlwXXwIw5WTP5E1hGA1Dv1EFuNu.k-1680536832-0-gaNycGzNChA\" + window._cf_chl_opt.cOgUHash);\n",
       "            cpo.onload = function() {\n",
       "                history.replaceState(null, null, ogU);\n",
       "            };\n",
       "        }\n",
       "        document.getElementsByTagName('head')[0].appendChild(cpo);\n",
       "    }());\n",
       "</script>\n",
       "</body>\n",
       "</html>\n",
       ">"
      ]
     },
     "execution_count": 6,
     "metadata": {},
     "output_type": "execute_result"
    }
   ],
   "source": [
    "S.prettify"
   ]
  },
  {
   "cell_type": "code",
   "execution_count": 7,
   "id": "5df9c80f",
   "metadata": {},
   "outputs": [
    {
     "data": {
      "text/plain": [
       "<title>Just a moment...</title>"
      ]
     },
     "execution_count": 7,
     "metadata": {},
     "output_type": "execute_result"
    }
   ],
   "source": [
    "S.title"
   ]
  },
  {
   "cell_type": "code",
   "execution_count": 8,
   "id": "4a605b70",
   "metadata": {},
   "outputs": [
    {
     "data": {
      "text/plain": [
       "'Just a moment...'"
      ]
     },
     "execution_count": 8,
     "metadata": {},
     "output_type": "execute_result"
    }
   ],
   "source": [
    "S.title.string"
   ]
  },
  {
   "cell_type": "code",
   "execution_count": 9,
   "id": "846f6a4f",
   "metadata": {},
   "outputs": [
    {
     "data": {
      "text/plain": [
       "bs4.element.NavigableString"
      ]
     },
     "execution_count": 9,
     "metadata": {},
     "output_type": "execute_result"
    }
   ],
   "source": [
    "type(S.title.string)"
   ]
  },
  {
   "cell_type": "code",
   "execution_count": 10,
   "id": "08cf7921",
   "metadata": {},
   "outputs": [
    {
     "data": {
      "text/plain": [
       "bs4.BeautifulSoup"
      ]
     },
     "execution_count": 10,
     "metadata": {},
     "output_type": "execute_result"
    }
   ],
   "source": [
    "type(S)"
   ]
  },
  {
   "cell_type": "code",
   "execution_count": 11,
   "id": "4e961add",
   "metadata": {},
   "outputs": [
    {
     "data": {
      "text/plain": [
       "bs4.element.Tag"
      ]
     },
     "execution_count": 11,
     "metadata": {},
     "output_type": "execute_result"
    }
   ],
   "source": [
    "type(S.title)"
   ]
  },
  {
   "cell_type": "code",
   "execution_count": 12,
   "id": "dc92171e",
   "metadata": {},
   "outputs": [
    {
     "data": {
      "text/plain": [
       "bs4.element.NavigableString"
      ]
     },
     "execution_count": 12,
     "metadata": {},
     "output_type": "execute_result"
    }
   ],
   "source": [
    "type(S.title.string)"
   ]
  },
  {
   "cell_type": "code",
   "execution_count": 13,
   "id": "787c573f",
   "metadata": {},
   "outputs": [
    {
     "data": {
      "text/plain": [
       "[]"
      ]
     },
     "execution_count": 13,
     "metadata": {},
     "output_type": "execute_result"
    }
   ],
   "source": [
    "para=S.find_all('p')\n",
    "para"
   ]
  },
  {
   "cell_type": "code",
   "execution_count": 14,
   "id": "bd294f4b",
   "metadata": {},
   "outputs": [
    {
     "data": {
      "text/plain": [
       "[]"
      ]
     },
     "execution_count": 14,
     "metadata": {},
     "output_type": "execute_result"
    }
   ],
   "source": [
    "a=S.find_all('a')\n",
    "a"
   ]
  },
  {
   "cell_type": "code",
   "execution_count": 15,
   "id": "ccfeedd7",
   "metadata": {},
   "outputs": [
    {
     "data": {
      "text/plain": [
       "<!DOCTYPE html>\n",
       "\n",
       "<html lang=\"en-US\">\n",
       "<head>\n",
       "<title>Just a moment...</title>\n",
       "<meta content=\"text/html; charset=utf-8\" http-equiv=\"Content-Type\"/>\n",
       "<meta content=\"IE=Edge\" http-equiv=\"X-UA-Compatible\"/>\n",
       "<meta content=\"noindex,nofollow\" name=\"robots\"/>\n",
       "<meta content=\"width=device-width,initial-scale=1\" name=\"viewport\"/>\n",
       "<link href=\"/cdn-cgi/styles/challenges.css\" rel=\"stylesheet\"/>\n",
       "</head>\n",
       "<body class=\"no-js\">\n",
       "<div class=\"main-wrapper\" role=\"main\">\n",
       "<div class=\"main-content\">\n",
       "<noscript>\n",
       "<div id=\"challenge-error-title\">\n",
       "<div class=\"h2\">\n",
       "<span class=\"icon-wrapper\">\n",
       "<div class=\"heading-icon warning-icon\"></div>\n",
       "</span>\n",
       "<span id=\"challenge-error-text\">\n",
       "                        Enable JavaScript and cookies to continue\n",
       "                    </span>\n",
       "</div>\n",
       "</div>\n",
       "</noscript>\n",
       "<div id=\"trk_jschal_js\" style=\"display:none;background-image:url('/cdn-cgi/images/trace/managed/nojs/transparent.gif?ray=7b2272e55c1485cc')\"></div>\n",
       "<form action=\"/?__cf_chl_f_tk=fehoskytWFdJUgLlwXXwIw5WTP5E1hGA1Dv1EFuNu.k-1680536832-0-gaNycGzNChA\" enctype=\"application/x-www-form-urlencoded\" id=\"challenge-form\" method=\"POST\">\n",
       "<input name=\"md\" type=\"hidden\" value=\"PyJI9fLcSjSS8wQxyTouNjAPM9y.cNTAwyVTe6lHKIA-1680536832-0-AVXb-UkdUqS2SCjeOHBRnGt6ZQ8nZ5b5XCtW_PQ60kNUlz_CB8UcDuurptU0rfWYcvcAF--3rESZkk7F0pYDEKFurZZkdPLY8awJErhr09IdWivm3I6RH6gHC72A1GbIFKtKSvAGwPZguQpdFJqH6tbXehxP8aiF5XaG7Erbeh-jps-c5wIDAEiH3GZE_T6i-nbPxtn9QBbqYJ7u6jHpYSe2AlLq2VEhcsa1Xs3AW9hP3DwBvrceeKLE_tVR9VAPgDHP0vmZmdUnCG_YpRAcIt9lVqXoT58ap3x8VkbBb6g-PIvjEJ1ulfSOWmM56yE70PDBUxALlFVNbrVjfh4wFFrRa8HHYXz-EpvH8YEygvjJh5tVbRq484pkyt79H6coyXq-dmvthh_mzuZMLudaHB4_KI0Vzi1RG0VvUKMxoebgzaCofJ1D1yEA6OAC_IgON9LVOL6eyknvi7HHdPqxOAbXTuFi6EwDzS6onumJFePPFzqfWpPN5izBbftaXyOPQvAYWF3K6BVGtyw77FYZDk6t3bzIu7RjOMk8ST1-sstO2tKu0O5U_RIsug-ad0Nj4xuw2kVOJPlcHe4pWO4LzTYXRvKgnHrcUTk8gGj1KyiCebIw0g1JduLUOOos6FBrSfXrDq7Z-8kw0hKxt5CpKp3HKYpkubk-cfQDqWP5-Ocfy5xj8rPGIOHSPak5K-6wbKD3GXnb5P7QRvu2gjO5MIAMoKorP8yqAWoxlrVT3iZ6uB67Y3hapg56kakqiFwJmbDt3EZPYDPIGpQ91hHpT1dBy5OlylsojGNvPnXvvNqDcaWM_nbgmwQpg6cAjBQFSbKKt0Tf7CNG8FxppSE-tIh7TY_LttctpqjtkWAXxzSOvbjWxrRcw0zBtOZ5do07O_ONYoQgdpGfcS0GnRG1Ii7oYGajMlMu50E7B0NuG_XfwJFTcyZ9cipW2zCbuPGYm5vx0Z_tbHbxvhzVbDv8l5NBLZuOyaGIHr7vgK6OJ_mqGBfPxzY8bLmPeFfJpDrg08jxW7QqtQqlD-kNB9kINfi2l-_MXLaVkm3_9ALjIvJmrEQfFHf69kyA99-NcfkEtvfhMlWRbROGpCSGlNXhQ5-FvqHSsgpsBC3CS3z8hxOMy0pdnosCul357e5N3sa4cQ-bVAqdsFAtWq-ZLde_6xEcYUpZndqVfsaCW0dlJCcFTzFihROUdxoAsOYucufHq3pmxHn63laUWWv0N3L3rnBZs2OAosIAPTCS4KmgwxD6flcXoBwFuLOzn79Vei9njZd_WKtJT5Er0-OskoGrgjL9jy3kKOsWQ9QOhpag1UUqv0mCcfGoMfJnIHiHONVpdQghVfwcHKTgDLAxI2ZiF5iBkPZw2FeOdn1Fr_d8WSxMR7CASV2VxBTlzvfEdu2Zq2wmgbgKIVitBmW7gZ7OE5fygiHK_NjD1KkiWkR32w74MLkU4OS0B7jT4o2YAjL6Jb7RpVlTwdjDny_pXNoCQIq2KC4RQP-85JaQjO4DCtjbzgufaqtBn04KXl4JKBv2T2X4KrIzDYQqWbt9bfkTJaaeREVB_9U3LRChzk6tuYBnwWmUbF869V8K6GgaIqLm6aHZ3nf5vWH2BAKwFksiPAJZQ0ejGgZZ7mfDWGhcB5gCD6Adrza40d8C0T_UIjxGxGPTBpUXLsUUQUdg3VILaujZxOZsinv4Nr4cubSyoS7rSLUFtgrZozl8eInjBOgEGgGvxvpLNpMszaWy2H8OrcUB32SBxae2BuFEea3ak-5DepSOruhYhOBrmuS3a5IrdlAtMSIUhXBoOlr3ZiKQYmOPaN_zTWp1XakUTqxKJCoIou2fRxmhFYLv4CvLfyx_zFUUbbjhjsWJSxuWeFexA-I2ZZr_chmGOuHtnbjZNn1g2moi52I8k0hYdScBZWbI-ElTtGfAHfBI2sFtlA3ZOKKtZx0eUiAlNuYTIhkM4gnIo4DtveCR6JLoA0ntXJDMuGen6OqNXVzNtlp2Ac757LnwldS4y-o1kt0kFQGaEaHQlTH7SW9sZqdcWLVQSuijkVTg23pzckZKTMh1_WbIJNQivBR_kc_ssJ3vDElGyp8FxXTbD2tedECajqoT6mnrH6Wpi6xNy4dVb3HBCATArrA-68X0SfwOXom-zvqGwEV8usMz68odZ4xGfZyfyk_SSJ2eLbilGl9-CVzXf1ow-JzQ1yqjJuTfRW-d7JbABujvX4XfYGCNY7nJ-iQqwV81KyI5pLRfphu4U1a4jxzca3emfaHg58ihbprm2_PisTGAbpsUgjVROKp72AdLSLDhIktpJnnswy0eUZ4xxunN1tbFaM8BnJxGyOdsKYtaZNBS8ChKAPBaenUlR4ofY3srSb4Cv-w98P3V9Rg824jI1OIgnahxTpZqjRoggtYwmx3_hOHmeQZMrGdBjm3o8uJ4vwechQRNbzAvOMme5QYsnTaQauFq9EByO2o4qsYBW2NRKFXy8T5GBhv8O3hIIQ0iZESMHk8y9fEAmedBDkv44UQ\"/>\n",
       "</form>\n",
       "</div>\n",
       "</div>\n",
       "<script>\n",
       "    (function(){\n",
       "        window._cf_chl_opt={\n",
       "            cvId: '2',\n",
       "            cZone: 'www.canva.com',\n",
       "            cType: 'managed',\n",
       "            cNounce: '89817',\n",
       "            cRay: '7b2272e55c1485cc',\n",
       "            cHash: '70797bad9b04a07',\n",
       "            cUPMDTk: \"\\/?__cf_chl_tk=fehoskytWFdJUgLlwXXwIw5WTP5E1hGA1Dv1EFuNu.k-1680536832-0-gaNycGzNChA\",\n",
       "            cFPWv: 'b',\n",
       "            cTTimeMs: '1000',\n",
       "            cMTimeMs: '0',\n",
       "            cTplV: 5,\n",
       "            cTplB: 'cf',\n",
       "            cK: \"\",\n",
       "            cRq: {\n",
       "                ru: 'aHR0cHM6Ly93d3cuY2FudmEuY29tLw==',\n",
       "                ra: 'cHl0aG9uLXJlcXVlc3RzLzIuMjguMQ==',\n",
       "                rm: 'R0VU',\n",
       "                d: '5mOH0iNhFCSlo+5JZX5CxY+YqtzkAjMW8NL99QroUjKdwwSAQpxVVB5gFQqJ+wUF8EEBOdBITMcqxtZWxtPvzLOZHiTkKhHUiJjuE7XxnFKv9JuSJYp8vLRHDZn89hEr/VXIAlSPXEsgOiyOTr168uGy7jDlsGzs14lD93SdmqRM0wiCUqOb544mc2HMWfDBp0LzoiDbqeIAyndRDX+uhqy+k53HMg/b+S01s2hXXTZ9udTvN8BVfEHC8WWtgJ7y5dgCsLT5xzr3TEyJOFG6hM4i8geN2Q1PJq7Fpvx6Jj7EYN1CMn9ECzcmXMuBe5LLw3nMzM42/u2+kcudEawfrg+Y2JAcluD0OAJB+JfrJdJE3dHV/BZA27wxSER8wI9dcU+ExzstzTNL+2j8dMEheAvyalUYz00aJ4XbxUTx+n8FNecfGjKDbbj+/NGGmEjslZeJ9xZSZMZ8RvyvmNhAAJing75//8fOuKr5Xtmb0ZBsfc3TAkMH/bdGHLey2sBVhgskWRyHXuAhKaMWMHicyRYJykBJLH/pGYn5M7Hur5Prq5dh2meYBDNT1bUk6FOJxPsqmbxStvEV++IEXqB+jfa8am7YODlA5T5Ohhas/nyV6X3PMVRQt7dEHb8uhFI3',\n",
       "                t: 'MTY4MDUzNjgzMi44NzEwMDA=',\n",
       "                m: 'WaeiRuvfJrQ9sdYMuX6TQrr+D91HFv9KheHyJ2O1kw8=',\n",
       "                i1: 'nhPTDGtYMdeuXHatxoA3zg==',\n",
       "                i2: 'c64PU02KSlPMn0KiWRd2bQ==',\n",
       "                zh: '/mxmDQDvBGTEk5y6ErmAoCwqYjGcBJwDqX3NLlc5hH0=',\n",
       "                uh: 'SLdVolODg++SO356HusO5I/hbfOpiiOxQXj62i/MUkA=',\n",
       "                hh: 'EpafASgNoei8MR0S/nw9t+Ki+1v5649duOyjGQq3azA=',\n",
       "            }\n",
       "        };\n",
       "        var trkjs = document.createElement('img');\n",
       "        trkjs.setAttribute('src', '/cdn-cgi/images/trace/managed/js/transparent.gif?ray=7b2272e55c1485cc');\n",
       "        trkjs.setAttribute('alt', '');\n",
       "        trkjs.setAttribute('style', 'display: none');\n",
       "        document.body.appendChild(trkjs);\n",
       "        var cpo = document.createElement('script');\n",
       "        cpo.src = '/cdn-cgi/challenge-platform/h/b/orchestrate/managed/v1?ray=7b2272e55c1485cc';\n",
       "        window._cf_chl_opt.cOgUHash = location.hash === '' && location.href.indexOf('#') !== -1 ? '#' : location.hash;\n",
       "        window._cf_chl_opt.cOgUQuery = location.search === '' && location.href.slice(0, location.href.length - window._cf_chl_opt.cOgUHash.length).indexOf('?') !== -1 ? '?' : location.search;\n",
       "        if (window.history && window.history.replaceState) {\n",
       "            var ogU = location.pathname + window._cf_chl_opt.cOgUQuery + window._cf_chl_opt.cOgUHash;\n",
       "            history.replaceState(null, null, \"\\/?__cf_chl_rt_tk=fehoskytWFdJUgLlwXXwIw5WTP5E1hGA1Dv1EFuNu.k-1680536832-0-gaNycGzNChA\" + window._cf_chl_opt.cOgUHash);\n",
       "            cpo.onload = function() {\n",
       "                history.replaceState(null, null, ogU);\n",
       "            };\n",
       "        }\n",
       "        document.getElementsByTagName('head')[0].appendChild(cpo);\n",
       "    }());\n",
       "</script>\n",
       "</body>\n",
       "</html>"
      ]
     },
     "execution_count": 15,
     "metadata": {},
     "output_type": "execute_result"
    }
   ],
   "source": [
    "S"
   ]
  },
  {
   "cell_type": "code",
   "execution_count": 16,
   "id": "bb7f6a09",
   "metadata": {},
   "outputs": [],
   "source": [
    "a=S.find('a')"
   ]
  },
  {
   "cell_type": "code",
   "execution_count": 17,
   "id": "5763591f",
   "metadata": {},
   "outputs": [],
   "source": [
    "a"
   ]
  },
  {
   "cell_type": "code",
   "execution_count": 18,
   "id": "2d64491d",
   "metadata": {},
   "outputs": [
    {
     "data": {
      "text/plain": [
       "[]"
      ]
     },
     "execution_count": 18,
     "metadata": {},
     "output_type": "execute_result"
    }
   ],
   "source": [
    "a=S.find_all('a')\n",
    "a"
   ]
  },
  {
   "cell_type": "code",
   "execution_count": 19,
   "id": "52b6aaf3",
   "metadata": {},
   "outputs": [
    {
     "name": "stdout",
     "output_type": "stream",
     "text": [
      "[]\n"
     ]
    }
   ],
   "source": [
    "print(a)"
   ]
  },
  {
   "cell_type": "code",
   "execution_count": 20,
   "id": "1574d95a",
   "metadata": {},
   "outputs": [
    {
     "data": {
      "text/plain": [
       "<!DOCTYPE html>\n",
       "\n",
       "<html lang=\"en-US\">\n",
       "<head>\n",
       "<title>Just a moment...</title>\n",
       "<meta content=\"text/html; charset=utf-8\" http-equiv=\"Content-Type\"/>\n",
       "<meta content=\"IE=Edge\" http-equiv=\"X-UA-Compatible\"/>\n",
       "<meta content=\"noindex,nofollow\" name=\"robots\"/>\n",
       "<meta content=\"width=device-width,initial-scale=1\" name=\"viewport\"/>\n",
       "<link href=\"/cdn-cgi/styles/challenges.css\" rel=\"stylesheet\"/>\n",
       "</head>\n",
       "<body class=\"no-js\">\n",
       "<div class=\"main-wrapper\" role=\"main\">\n",
       "<div class=\"main-content\">\n",
       "<noscript>\n",
       "<div id=\"challenge-error-title\">\n",
       "<div class=\"h2\">\n",
       "<span class=\"icon-wrapper\">\n",
       "<div class=\"heading-icon warning-icon\"></div>\n",
       "</span>\n",
       "<span id=\"challenge-error-text\">\n",
       "                        Enable JavaScript and cookies to continue\n",
       "                    </span>\n",
       "</div>\n",
       "</div>\n",
       "</noscript>\n",
       "<div id=\"trk_jschal_js\" style=\"display:none;background-image:url('/cdn-cgi/images/trace/managed/nojs/transparent.gif?ray=7b2272e55c1485cc')\"></div>\n",
       "<form action=\"/?__cf_chl_f_tk=fehoskytWFdJUgLlwXXwIw5WTP5E1hGA1Dv1EFuNu.k-1680536832-0-gaNycGzNChA\" enctype=\"application/x-www-form-urlencoded\" id=\"challenge-form\" method=\"POST\">\n",
       "<input name=\"md\" type=\"hidden\" value=\"PyJI9fLcSjSS8wQxyTouNjAPM9y.cNTAwyVTe6lHKIA-1680536832-0-AVXb-UkdUqS2SCjeOHBRnGt6ZQ8nZ5b5XCtW_PQ60kNUlz_CB8UcDuurptU0rfWYcvcAF--3rESZkk7F0pYDEKFurZZkdPLY8awJErhr09IdWivm3I6RH6gHC72A1GbIFKtKSvAGwPZguQpdFJqH6tbXehxP8aiF5XaG7Erbeh-jps-c5wIDAEiH3GZE_T6i-nbPxtn9QBbqYJ7u6jHpYSe2AlLq2VEhcsa1Xs3AW9hP3DwBvrceeKLE_tVR9VAPgDHP0vmZmdUnCG_YpRAcIt9lVqXoT58ap3x8VkbBb6g-PIvjEJ1ulfSOWmM56yE70PDBUxALlFVNbrVjfh4wFFrRa8HHYXz-EpvH8YEygvjJh5tVbRq484pkyt79H6coyXq-dmvthh_mzuZMLudaHB4_KI0Vzi1RG0VvUKMxoebgzaCofJ1D1yEA6OAC_IgON9LVOL6eyknvi7HHdPqxOAbXTuFi6EwDzS6onumJFePPFzqfWpPN5izBbftaXyOPQvAYWF3K6BVGtyw77FYZDk6t3bzIu7RjOMk8ST1-sstO2tKu0O5U_RIsug-ad0Nj4xuw2kVOJPlcHe4pWO4LzTYXRvKgnHrcUTk8gGj1KyiCebIw0g1JduLUOOos6FBrSfXrDq7Z-8kw0hKxt5CpKp3HKYpkubk-cfQDqWP5-Ocfy5xj8rPGIOHSPak5K-6wbKD3GXnb5P7QRvu2gjO5MIAMoKorP8yqAWoxlrVT3iZ6uB67Y3hapg56kakqiFwJmbDt3EZPYDPIGpQ91hHpT1dBy5OlylsojGNvPnXvvNqDcaWM_nbgmwQpg6cAjBQFSbKKt0Tf7CNG8FxppSE-tIh7TY_LttctpqjtkWAXxzSOvbjWxrRcw0zBtOZ5do07O_ONYoQgdpGfcS0GnRG1Ii7oYGajMlMu50E7B0NuG_XfwJFTcyZ9cipW2zCbuPGYm5vx0Z_tbHbxvhzVbDv8l5NBLZuOyaGIHr7vgK6OJ_mqGBfPxzY8bLmPeFfJpDrg08jxW7QqtQqlD-kNB9kINfi2l-_MXLaVkm3_9ALjIvJmrEQfFHf69kyA99-NcfkEtvfhMlWRbROGpCSGlNXhQ5-FvqHSsgpsBC3CS3z8hxOMy0pdnosCul357e5N3sa4cQ-bVAqdsFAtWq-ZLde_6xEcYUpZndqVfsaCW0dlJCcFTzFihROUdxoAsOYucufHq3pmxHn63laUWWv0N3L3rnBZs2OAosIAPTCS4KmgwxD6flcXoBwFuLOzn79Vei9njZd_WKtJT5Er0-OskoGrgjL9jy3kKOsWQ9QOhpag1UUqv0mCcfGoMfJnIHiHONVpdQghVfwcHKTgDLAxI2ZiF5iBkPZw2FeOdn1Fr_d8WSxMR7CASV2VxBTlzvfEdu2Zq2wmgbgKIVitBmW7gZ7OE5fygiHK_NjD1KkiWkR32w74MLkU4OS0B7jT4o2YAjL6Jb7RpVlTwdjDny_pXNoCQIq2KC4RQP-85JaQjO4DCtjbzgufaqtBn04KXl4JKBv2T2X4KrIzDYQqWbt9bfkTJaaeREVB_9U3LRChzk6tuYBnwWmUbF869V8K6GgaIqLm6aHZ3nf5vWH2BAKwFksiPAJZQ0ejGgZZ7mfDWGhcB5gCD6Adrza40d8C0T_UIjxGxGPTBpUXLsUUQUdg3VILaujZxOZsinv4Nr4cubSyoS7rSLUFtgrZozl8eInjBOgEGgGvxvpLNpMszaWy2H8OrcUB32SBxae2BuFEea3ak-5DepSOruhYhOBrmuS3a5IrdlAtMSIUhXBoOlr3ZiKQYmOPaN_zTWp1XakUTqxKJCoIou2fRxmhFYLv4CvLfyx_zFUUbbjhjsWJSxuWeFexA-I2ZZr_chmGOuHtnbjZNn1g2moi52I8k0hYdScBZWbI-ElTtGfAHfBI2sFtlA3ZOKKtZx0eUiAlNuYTIhkM4gnIo4DtveCR6JLoA0ntXJDMuGen6OqNXVzNtlp2Ac757LnwldS4y-o1kt0kFQGaEaHQlTH7SW9sZqdcWLVQSuijkVTg23pzckZKTMh1_WbIJNQivBR_kc_ssJ3vDElGyp8FxXTbD2tedECajqoT6mnrH6Wpi6xNy4dVb3HBCATArrA-68X0SfwOXom-zvqGwEV8usMz68odZ4xGfZyfyk_SSJ2eLbilGl9-CVzXf1ow-JzQ1yqjJuTfRW-d7JbABujvX4XfYGCNY7nJ-iQqwV81KyI5pLRfphu4U1a4jxzca3emfaHg58ihbprm2_PisTGAbpsUgjVROKp72AdLSLDhIktpJnnswy0eUZ4xxunN1tbFaM8BnJxGyOdsKYtaZNBS8ChKAPBaenUlR4ofY3srSb4Cv-w98P3V9Rg824jI1OIgnahxTpZqjRoggtYwmx3_hOHmeQZMrGdBjm3o8uJ4vwechQRNbzAvOMme5QYsnTaQauFq9EByO2o4qsYBW2NRKFXy8T5GBhv8O3hIIQ0iZESMHk8y9fEAmedBDkv44UQ\"/>\n",
       "</form>\n",
       "</div>\n",
       "</div>\n",
       "<script>\n",
       "    (function(){\n",
       "        window._cf_chl_opt={\n",
       "            cvId: '2',\n",
       "            cZone: 'www.canva.com',\n",
       "            cType: 'managed',\n",
       "            cNounce: '89817',\n",
       "            cRay: '7b2272e55c1485cc',\n",
       "            cHash: '70797bad9b04a07',\n",
       "            cUPMDTk: \"\\/?__cf_chl_tk=fehoskytWFdJUgLlwXXwIw5WTP5E1hGA1Dv1EFuNu.k-1680536832-0-gaNycGzNChA\",\n",
       "            cFPWv: 'b',\n",
       "            cTTimeMs: '1000',\n",
       "            cMTimeMs: '0',\n",
       "            cTplV: 5,\n",
       "            cTplB: 'cf',\n",
       "            cK: \"\",\n",
       "            cRq: {\n",
       "                ru: 'aHR0cHM6Ly93d3cuY2FudmEuY29tLw==',\n",
       "                ra: 'cHl0aG9uLXJlcXVlc3RzLzIuMjguMQ==',\n",
       "                rm: 'R0VU',\n",
       "                d: '5mOH0iNhFCSlo+5JZX5CxY+YqtzkAjMW8NL99QroUjKdwwSAQpxVVB5gFQqJ+wUF8EEBOdBITMcqxtZWxtPvzLOZHiTkKhHUiJjuE7XxnFKv9JuSJYp8vLRHDZn89hEr/VXIAlSPXEsgOiyOTr168uGy7jDlsGzs14lD93SdmqRM0wiCUqOb544mc2HMWfDBp0LzoiDbqeIAyndRDX+uhqy+k53HMg/b+S01s2hXXTZ9udTvN8BVfEHC8WWtgJ7y5dgCsLT5xzr3TEyJOFG6hM4i8geN2Q1PJq7Fpvx6Jj7EYN1CMn9ECzcmXMuBe5LLw3nMzM42/u2+kcudEawfrg+Y2JAcluD0OAJB+JfrJdJE3dHV/BZA27wxSER8wI9dcU+ExzstzTNL+2j8dMEheAvyalUYz00aJ4XbxUTx+n8FNecfGjKDbbj+/NGGmEjslZeJ9xZSZMZ8RvyvmNhAAJing75//8fOuKr5Xtmb0ZBsfc3TAkMH/bdGHLey2sBVhgskWRyHXuAhKaMWMHicyRYJykBJLH/pGYn5M7Hur5Prq5dh2meYBDNT1bUk6FOJxPsqmbxStvEV++IEXqB+jfa8am7YODlA5T5Ohhas/nyV6X3PMVRQt7dEHb8uhFI3',\n",
       "                t: 'MTY4MDUzNjgzMi44NzEwMDA=',\n",
       "                m: 'WaeiRuvfJrQ9sdYMuX6TQrr+D91HFv9KheHyJ2O1kw8=',\n",
       "                i1: 'nhPTDGtYMdeuXHatxoA3zg==',\n",
       "                i2: 'c64PU02KSlPMn0KiWRd2bQ==',\n",
       "                zh: '/mxmDQDvBGTEk5y6ErmAoCwqYjGcBJwDqX3NLlc5hH0=',\n",
       "                uh: 'SLdVolODg++SO356HusO5I/hbfOpiiOxQXj62i/MUkA=',\n",
       "                hh: 'EpafASgNoei8MR0S/nw9t+Ki+1v5649duOyjGQq3azA=',\n",
       "            }\n",
       "        };\n",
       "        var trkjs = document.createElement('img');\n",
       "        trkjs.setAttribute('src', '/cdn-cgi/images/trace/managed/js/transparent.gif?ray=7b2272e55c1485cc');\n",
       "        trkjs.setAttribute('alt', '');\n",
       "        trkjs.setAttribute('style', 'display: none');\n",
       "        document.body.appendChild(trkjs);\n",
       "        var cpo = document.createElement('script');\n",
       "        cpo.src = '/cdn-cgi/challenge-platform/h/b/orchestrate/managed/v1?ray=7b2272e55c1485cc';\n",
       "        window._cf_chl_opt.cOgUHash = location.hash === '' && location.href.indexOf('#') !== -1 ? '#' : location.hash;\n",
       "        window._cf_chl_opt.cOgUQuery = location.search === '' && location.href.slice(0, location.href.length - window._cf_chl_opt.cOgUHash.length).indexOf('?') !== -1 ? '?' : location.search;\n",
       "        if (window.history && window.history.replaceState) {\n",
       "            var ogU = location.pathname + window._cf_chl_opt.cOgUQuery + window._cf_chl_opt.cOgUHash;\n",
       "            history.replaceState(null, null, \"\\/?__cf_chl_rt_tk=fehoskytWFdJUgLlwXXwIw5WTP5E1hGA1Dv1EFuNu.k-1680536832-0-gaNycGzNChA\" + window._cf_chl_opt.cOgUHash);\n",
       "            cpo.onload = function() {\n",
       "                history.replaceState(null, null, ogU);\n",
       "            };\n",
       "        }\n",
       "        document.getElementsByTagName('head')[0].appendChild(cpo);\n",
       "    }());\n",
       "</script>\n",
       "</body>\n",
       "</html>"
      ]
     },
     "execution_count": 20,
     "metadata": {},
     "output_type": "execute_result"
    }
   ],
   "source": [
    "S"
   ]
  },
  {
   "cell_type": "code",
   "execution_count": 21,
   "id": "fe164ab3",
   "metadata": {},
   "outputs": [
    {
     "data": {
      "text/plain": [
       "[]"
      ]
     },
     "execution_count": 21,
     "metadata": {},
     "output_type": "execute_result"
    }
   ],
   "source": [
    "anc=S.find_all('a')\n",
    "anc"
   ]
  },
  {
   "cell_type": "code",
   "execution_count": 22,
   "id": "70993401",
   "metadata": {},
   "outputs": [],
   "source": [
    "soup=S"
   ]
  },
  {
   "cell_type": "code",
   "execution_count": 23,
   "id": "1eba951d",
   "metadata": {},
   "outputs": [
    {
     "data": {
      "text/plain": [
       "<!DOCTYPE html>\n",
       "\n",
       "<html lang=\"en-US\">\n",
       "<head>\n",
       "<title>Just a moment...</title>\n",
       "<meta content=\"text/html; charset=utf-8\" http-equiv=\"Content-Type\"/>\n",
       "<meta content=\"IE=Edge\" http-equiv=\"X-UA-Compatible\"/>\n",
       "<meta content=\"noindex,nofollow\" name=\"robots\"/>\n",
       "<meta content=\"width=device-width,initial-scale=1\" name=\"viewport\"/>\n",
       "<link href=\"/cdn-cgi/styles/challenges.css\" rel=\"stylesheet\"/>\n",
       "</head>\n",
       "<body class=\"no-js\">\n",
       "<div class=\"main-wrapper\" role=\"main\">\n",
       "<div class=\"main-content\">\n",
       "<noscript>\n",
       "<div id=\"challenge-error-title\">\n",
       "<div class=\"h2\">\n",
       "<span class=\"icon-wrapper\">\n",
       "<div class=\"heading-icon warning-icon\"></div>\n",
       "</span>\n",
       "<span id=\"challenge-error-text\">\n",
       "                        Enable JavaScript and cookies to continue\n",
       "                    </span>\n",
       "</div>\n",
       "</div>\n",
       "</noscript>\n",
       "<div id=\"trk_jschal_js\" style=\"display:none;background-image:url('/cdn-cgi/images/trace/managed/nojs/transparent.gif?ray=7b2272e55c1485cc')\"></div>\n",
       "<form action=\"/?__cf_chl_f_tk=fehoskytWFdJUgLlwXXwIw5WTP5E1hGA1Dv1EFuNu.k-1680536832-0-gaNycGzNChA\" enctype=\"application/x-www-form-urlencoded\" id=\"challenge-form\" method=\"POST\">\n",
       "<input name=\"md\" type=\"hidden\" value=\"PyJI9fLcSjSS8wQxyTouNjAPM9y.cNTAwyVTe6lHKIA-1680536832-0-AVXb-UkdUqS2SCjeOHBRnGt6ZQ8nZ5b5XCtW_PQ60kNUlz_CB8UcDuurptU0rfWYcvcAF--3rESZkk7F0pYDEKFurZZkdPLY8awJErhr09IdWivm3I6RH6gHC72A1GbIFKtKSvAGwPZguQpdFJqH6tbXehxP8aiF5XaG7Erbeh-jps-c5wIDAEiH3GZE_T6i-nbPxtn9QBbqYJ7u6jHpYSe2AlLq2VEhcsa1Xs3AW9hP3DwBvrceeKLE_tVR9VAPgDHP0vmZmdUnCG_YpRAcIt9lVqXoT58ap3x8VkbBb6g-PIvjEJ1ulfSOWmM56yE70PDBUxALlFVNbrVjfh4wFFrRa8HHYXz-EpvH8YEygvjJh5tVbRq484pkyt79H6coyXq-dmvthh_mzuZMLudaHB4_KI0Vzi1RG0VvUKMxoebgzaCofJ1D1yEA6OAC_IgON9LVOL6eyknvi7HHdPqxOAbXTuFi6EwDzS6onumJFePPFzqfWpPN5izBbftaXyOPQvAYWF3K6BVGtyw77FYZDk6t3bzIu7RjOMk8ST1-sstO2tKu0O5U_RIsug-ad0Nj4xuw2kVOJPlcHe4pWO4LzTYXRvKgnHrcUTk8gGj1KyiCebIw0g1JduLUOOos6FBrSfXrDq7Z-8kw0hKxt5CpKp3HKYpkubk-cfQDqWP5-Ocfy5xj8rPGIOHSPak5K-6wbKD3GXnb5P7QRvu2gjO5MIAMoKorP8yqAWoxlrVT3iZ6uB67Y3hapg56kakqiFwJmbDt3EZPYDPIGpQ91hHpT1dBy5OlylsojGNvPnXvvNqDcaWM_nbgmwQpg6cAjBQFSbKKt0Tf7CNG8FxppSE-tIh7TY_LttctpqjtkWAXxzSOvbjWxrRcw0zBtOZ5do07O_ONYoQgdpGfcS0GnRG1Ii7oYGajMlMu50E7B0NuG_XfwJFTcyZ9cipW2zCbuPGYm5vx0Z_tbHbxvhzVbDv8l5NBLZuOyaGIHr7vgK6OJ_mqGBfPxzY8bLmPeFfJpDrg08jxW7QqtQqlD-kNB9kINfi2l-_MXLaVkm3_9ALjIvJmrEQfFHf69kyA99-NcfkEtvfhMlWRbROGpCSGlNXhQ5-FvqHSsgpsBC3CS3z8hxOMy0pdnosCul357e5N3sa4cQ-bVAqdsFAtWq-ZLde_6xEcYUpZndqVfsaCW0dlJCcFTzFihROUdxoAsOYucufHq3pmxHn63laUWWv0N3L3rnBZs2OAosIAPTCS4KmgwxD6flcXoBwFuLOzn79Vei9njZd_WKtJT5Er0-OskoGrgjL9jy3kKOsWQ9QOhpag1UUqv0mCcfGoMfJnIHiHONVpdQghVfwcHKTgDLAxI2ZiF5iBkPZw2FeOdn1Fr_d8WSxMR7CASV2VxBTlzvfEdu2Zq2wmgbgKIVitBmW7gZ7OE5fygiHK_NjD1KkiWkR32w74MLkU4OS0B7jT4o2YAjL6Jb7RpVlTwdjDny_pXNoCQIq2KC4RQP-85JaQjO4DCtjbzgufaqtBn04KXl4JKBv2T2X4KrIzDYQqWbt9bfkTJaaeREVB_9U3LRChzk6tuYBnwWmUbF869V8K6GgaIqLm6aHZ3nf5vWH2BAKwFksiPAJZQ0ejGgZZ7mfDWGhcB5gCD6Adrza40d8C0T_UIjxGxGPTBpUXLsUUQUdg3VILaujZxOZsinv4Nr4cubSyoS7rSLUFtgrZozl8eInjBOgEGgGvxvpLNpMszaWy2H8OrcUB32SBxae2BuFEea3ak-5DepSOruhYhOBrmuS3a5IrdlAtMSIUhXBoOlr3ZiKQYmOPaN_zTWp1XakUTqxKJCoIou2fRxmhFYLv4CvLfyx_zFUUbbjhjsWJSxuWeFexA-I2ZZr_chmGOuHtnbjZNn1g2moi52I8k0hYdScBZWbI-ElTtGfAHfBI2sFtlA3ZOKKtZx0eUiAlNuYTIhkM4gnIo4DtveCR6JLoA0ntXJDMuGen6OqNXVzNtlp2Ac757LnwldS4y-o1kt0kFQGaEaHQlTH7SW9sZqdcWLVQSuijkVTg23pzckZKTMh1_WbIJNQivBR_kc_ssJ3vDElGyp8FxXTbD2tedECajqoT6mnrH6Wpi6xNy4dVb3HBCATArrA-68X0SfwOXom-zvqGwEV8usMz68odZ4xGfZyfyk_SSJ2eLbilGl9-CVzXf1ow-JzQ1yqjJuTfRW-d7JbABujvX4XfYGCNY7nJ-iQqwV81KyI5pLRfphu4U1a4jxzca3emfaHg58ihbprm2_PisTGAbpsUgjVROKp72AdLSLDhIktpJnnswy0eUZ4xxunN1tbFaM8BnJxGyOdsKYtaZNBS8ChKAPBaenUlR4ofY3srSb4Cv-w98P3V9Rg824jI1OIgnahxTpZqjRoggtYwmx3_hOHmeQZMrGdBjm3o8uJ4vwechQRNbzAvOMme5QYsnTaQauFq9EByO2o4qsYBW2NRKFXy8T5GBhv8O3hIIQ0iZESMHk8y9fEAmedBDkv44UQ\"/>\n",
       "</form>\n",
       "</div>\n",
       "</div>\n",
       "<script>\n",
       "    (function(){\n",
       "        window._cf_chl_opt={\n",
       "            cvId: '2',\n",
       "            cZone: 'www.canva.com',\n",
       "            cType: 'managed',\n",
       "            cNounce: '89817',\n",
       "            cRay: '7b2272e55c1485cc',\n",
       "            cHash: '70797bad9b04a07',\n",
       "            cUPMDTk: \"\\/?__cf_chl_tk=fehoskytWFdJUgLlwXXwIw5WTP5E1hGA1Dv1EFuNu.k-1680536832-0-gaNycGzNChA\",\n",
       "            cFPWv: 'b',\n",
       "            cTTimeMs: '1000',\n",
       "            cMTimeMs: '0',\n",
       "            cTplV: 5,\n",
       "            cTplB: 'cf',\n",
       "            cK: \"\",\n",
       "            cRq: {\n",
       "                ru: 'aHR0cHM6Ly93d3cuY2FudmEuY29tLw==',\n",
       "                ra: 'cHl0aG9uLXJlcXVlc3RzLzIuMjguMQ==',\n",
       "                rm: 'R0VU',\n",
       "                d: '5mOH0iNhFCSlo+5JZX5CxY+YqtzkAjMW8NL99QroUjKdwwSAQpxVVB5gFQqJ+wUF8EEBOdBITMcqxtZWxtPvzLOZHiTkKhHUiJjuE7XxnFKv9JuSJYp8vLRHDZn89hEr/VXIAlSPXEsgOiyOTr168uGy7jDlsGzs14lD93SdmqRM0wiCUqOb544mc2HMWfDBp0LzoiDbqeIAyndRDX+uhqy+k53HMg/b+S01s2hXXTZ9udTvN8BVfEHC8WWtgJ7y5dgCsLT5xzr3TEyJOFG6hM4i8geN2Q1PJq7Fpvx6Jj7EYN1CMn9ECzcmXMuBe5LLw3nMzM42/u2+kcudEawfrg+Y2JAcluD0OAJB+JfrJdJE3dHV/BZA27wxSER8wI9dcU+ExzstzTNL+2j8dMEheAvyalUYz00aJ4XbxUTx+n8FNecfGjKDbbj+/NGGmEjslZeJ9xZSZMZ8RvyvmNhAAJing75//8fOuKr5Xtmb0ZBsfc3TAkMH/bdGHLey2sBVhgskWRyHXuAhKaMWMHicyRYJykBJLH/pGYn5M7Hur5Prq5dh2meYBDNT1bUk6FOJxPsqmbxStvEV++IEXqB+jfa8am7YODlA5T5Ohhas/nyV6X3PMVRQt7dEHb8uhFI3',\n",
       "                t: 'MTY4MDUzNjgzMi44NzEwMDA=',\n",
       "                m: 'WaeiRuvfJrQ9sdYMuX6TQrr+D91HFv9KheHyJ2O1kw8=',\n",
       "                i1: 'nhPTDGtYMdeuXHatxoA3zg==',\n",
       "                i2: 'c64PU02KSlPMn0KiWRd2bQ==',\n",
       "                zh: '/mxmDQDvBGTEk5y6ErmAoCwqYjGcBJwDqX3NLlc5hH0=',\n",
       "                uh: 'SLdVolODg++SO356HusO5I/hbfOpiiOxQXj62i/MUkA=',\n",
       "                hh: 'EpafASgNoei8MR0S/nw9t+Ki+1v5649duOyjGQq3azA=',\n",
       "            }\n",
       "        };\n",
       "        var trkjs = document.createElement('img');\n",
       "        trkjs.setAttribute('src', '/cdn-cgi/images/trace/managed/js/transparent.gif?ray=7b2272e55c1485cc');\n",
       "        trkjs.setAttribute('alt', '');\n",
       "        trkjs.setAttribute('style', 'display: none');\n",
       "        document.body.appendChild(trkjs);\n",
       "        var cpo = document.createElement('script');\n",
       "        cpo.src = '/cdn-cgi/challenge-platform/h/b/orchestrate/managed/v1?ray=7b2272e55c1485cc';\n",
       "        window._cf_chl_opt.cOgUHash = location.hash === '' && location.href.indexOf('#') !== -1 ? '#' : location.hash;\n",
       "        window._cf_chl_opt.cOgUQuery = location.search === '' && location.href.slice(0, location.href.length - window._cf_chl_opt.cOgUHash.length).indexOf('?') !== -1 ? '?' : location.search;\n",
       "        if (window.history && window.history.replaceState) {\n",
       "            var ogU = location.pathname + window._cf_chl_opt.cOgUQuery + window._cf_chl_opt.cOgUHash;\n",
       "            history.replaceState(null, null, \"\\/?__cf_chl_rt_tk=fehoskytWFdJUgLlwXXwIw5WTP5E1hGA1Dv1EFuNu.k-1680536832-0-gaNycGzNChA\" + window._cf_chl_opt.cOgUHash);\n",
       "            cpo.onload = function() {\n",
       "                history.replaceState(null, null, ogU);\n",
       "            };\n",
       "        }\n",
       "        document.getElementsByTagName('head')[0].appendChild(cpo);\n",
       "    }());\n",
       "</script>\n",
       "</body>\n",
       "</html>"
      ]
     },
     "execution_count": 23,
     "metadata": {},
     "output_type": "execute_result"
    }
   ],
   "source": [
    "soup"
   ]
  },
  {
   "cell_type": "code",
   "execution_count": 24,
   "id": "72f581a3",
   "metadata": {},
   "outputs": [],
   "source": [
    "para=soup.find('p')\n",
    "para"
   ]
  },
  {
   "cell_type": "code",
   "execution_count": null,
   "id": "80a75604",
   "metadata": {},
   "outputs": [],
   "source": []
  }
 ],
 "metadata": {
  "kernelspec": {
   "display_name": "Python 3 (ipykernel)",
   "language": "python",
   "name": "python3"
  },
  "language_info": {
   "codemirror_mode": {
    "name": "ipython",
    "version": 3
   },
   "file_extension": ".py",
   "mimetype": "text/x-python",
   "name": "python",
   "nbconvert_exporter": "python",
   "pygments_lexer": "ipython3",
   "version": "3.10.5"
  }
 },
 "nbformat": 4,
 "nbformat_minor": 5
}
